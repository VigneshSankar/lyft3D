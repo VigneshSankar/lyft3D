{
 "cells": [
  {
   "cell_type": "code",
   "execution_count": 1,
   "metadata": {},
   "outputs": [
    {
     "data": {
      "text/html": [
       "        <script type=\"text/javascript\">\n",
       "        window.PlotlyConfig = {MathJaxConfig: 'local'};\n",
       "        if (window.MathJax) {MathJax.Hub.Config({SVG: {font: \"STIX-Web\"}});}\n",
       "        if (typeof require !== 'undefined') {\n",
       "        require.undef(\"plotly\");\n",
       "        requirejs.config({\n",
       "            paths: {\n",
       "                'plotly': ['https://cdn.plot.ly/plotly-latest.min']\n",
       "            }\n",
       "        });\n",
       "        require(['plotly'], function(Plotly) {\n",
       "            window._Plotly = Plotly;\n",
       "        });\n",
       "        }\n",
       "        </script>\n",
       "        "
      ]
     },
     "metadata": {},
     "output_type": "display_data"
    }
   ],
   "source": [
    "import os\n",
    "import gc\n",
    "import numpy as np\n",
    "import pandas as pd\n",
    "\n",
    "import json\n",
    "import math\n",
    "import sys\n",
    "import time\n",
    "from datetime import datetime\n",
    "from typing import Tuple, List\n",
    "\n",
    "import cv2\n",
    "import matplotlib.pyplot as plt\n",
    "import sklearn.metrics\n",
    "from PIL import Image\n",
    "\n",
    "from matplotlib.axes import Axes\n",
    "from matplotlib import animation, rc\n",
    "import plotly.graph_objs as go\n",
    "import plotly.tools as tls\n",
    "from plotly.offline import plot, init_notebook_mode\n",
    "import plotly.figure_factory as ff\n",
    "\n",
    "init_notebook_mode(connected=True)\n",
    "\n",
    "import seaborn as sns\n",
    "from pyquaternion import Quaternion\n",
    "from tqdm import tqdm\n",
    "\n",
    "from lyft_dataset_sdk.utils.map_mask import MapMask\n",
    "from lyft_dataset_sdk.lyftdataset import LyftDataset\n",
    "from lyft_dataset_sdk.utils.geometry_utils import view_points, box_in_image, BoxVisibility\n",
    "from lyft_dataset_sdk.utils.geometry_utils import view_points, transform_matrix\n",
    "from pathlib import Path\n",
    "\n",
    "import struct\n",
    "from abc import ABC, abstractmethod\n",
    "from functools import reduce\n",
    "from typing import Tuple, List, Dict\n",
    "import copy"
   ]
  },
  {
   "cell_type": "code",
   "execution_count": 2,
   "metadata": {},
   "outputs": [],
   "source": [
    "DATA_PATH = '/home/vignesh/workspace/lyft_3d/data/3d-object-detection-for-autonomous-vehicles/'"
   ]
  },
  {
   "cell_type": "code",
   "execution_count": 3,
   "metadata": {},
   "outputs": [],
   "source": [
    "train = pd.read_csv(DATA_PATH + 'train.csv')\n",
    "sample_submission = pd.read_csv(DATA_PATH + 'sample_submission.csv')"
   ]
  },
  {
   "cell_type": "code",
   "execution_count": 4,
   "metadata": {},
   "outputs": [
    {
     "data": {
      "text/html": [
       "<div>\n",
       "<style scoped>\n",
       "    .dataframe tbody tr th:only-of-type {\n",
       "        vertical-align: middle;\n",
       "    }\n",
       "\n",
       "    .dataframe tbody tr th {\n",
       "        vertical-align: top;\n",
       "    }\n",
       "\n",
       "    .dataframe thead th {\n",
       "        text-align: right;\n",
       "    }\n",
       "</style>\n",
       "<table border=\"1\" class=\"dataframe\">\n",
       "  <thead>\n",
       "    <tr style=\"text-align: right;\">\n",
       "      <th></th>\n",
       "      <th>Id</th>\n",
       "      <th>PredictionString</th>\n",
       "    </tr>\n",
       "  </thead>\n",
       "  <tbody>\n",
       "    <tr>\n",
       "      <th>0</th>\n",
       "      <td>db8b47bd4ebdf3b3fb21598bb41bd8853d12f8d2ef25ce...</td>\n",
       "      <td>2680.2830359778527 698.1969292852777 -18.04776...</td>\n",
       "    </tr>\n",
       "    <tr>\n",
       "      <th>1</th>\n",
       "      <td>edf37c1fb1024ba0c1f53ebbf10b6797f781199a9f0e4e...</td>\n",
       "      <td>1208.642684768659 1585.1812946970927 -23.56236...</td>\n",
       "    </tr>\n",
       "    <tr>\n",
       "      <th>2</th>\n",
       "      <td>1841b7895e7163a2c1be87e8c1740e759a910cd59157b8...</td>\n",
       "      <td>848.9346793681768 2587.2870557176507 -20.15995...</td>\n",
       "    </tr>\n",
       "    <tr>\n",
       "      <th>3</th>\n",
       "      <td>a970c764e7abd7ebc2cc4599a6e3ae58c9773ea3c9cf1d...</td>\n",
       "      <td>1994.4320280494098 1128.30164336183 -18.054752...</td>\n",
       "    </tr>\n",
       "    <tr>\n",
       "      <th>4</th>\n",
       "      <td>b909de93ba19460eeea58074ccc1ef6bb302435f37b48c...</td>\n",
       "      <td>1030.3877156973385 1667.13131694941 -23.764820...</td>\n",
       "    </tr>\n",
       "    <tr>\n",
       "      <th>...</th>\n",
       "      <td>...</td>\n",
       "      <td>...</td>\n",
       "    </tr>\n",
       "    <tr>\n",
       "      <th>22675</th>\n",
       "      <td>38fa844d66a71f80c4212aadc089633cd92b11f74b0238...</td>\n",
       "      <td>506.02429585132995 3074.465101403672 -2.893918...</td>\n",
       "    </tr>\n",
       "    <tr>\n",
       "      <th>22676</th>\n",
       "      <td>7f9a927b562c918668a4f0ee0e07d7bf80aa794afee674...</td>\n",
       "      <td>635.1858391616703 3514.376608433963 -5.1731285...</td>\n",
       "    </tr>\n",
       "    <tr>\n",
       "      <th>22677</th>\n",
       "      <td>18d85fa438e329e996f9f522a50ae1737655123bc5a833...</td>\n",
       "      <td>580.4906223985986 3341.363054644562 -0.2571444...</td>\n",
       "    </tr>\n",
       "    <tr>\n",
       "      <th>22678</th>\n",
       "      <td>5a7a365c1e92c9d7fd5592b904359142f062ed4ce64a75...</td>\n",
       "      <td>501.74488889345963 3082.923914062989 -2.333889...</td>\n",
       "    </tr>\n",
       "    <tr>\n",
       "      <th>22679</th>\n",
       "      <td>c3cf46bf792ebbf5ee868cc80cae85c3ffa6baa8d8b800...</td>\n",
       "      <td>598.6232274979175 2638.649589163639 -19.824600...</td>\n",
       "    </tr>\n",
       "  </tbody>\n",
       "</table>\n",
       "<p>22680 rows × 2 columns</p>\n",
       "</div>"
      ],
      "text/plain": [
       "                                                      Id  \\\n",
       "0      db8b47bd4ebdf3b3fb21598bb41bd8853d12f8d2ef25ce...   \n",
       "1      edf37c1fb1024ba0c1f53ebbf10b6797f781199a9f0e4e...   \n",
       "2      1841b7895e7163a2c1be87e8c1740e759a910cd59157b8...   \n",
       "3      a970c764e7abd7ebc2cc4599a6e3ae58c9773ea3c9cf1d...   \n",
       "4      b909de93ba19460eeea58074ccc1ef6bb302435f37b48c...   \n",
       "...                                                  ...   \n",
       "22675  38fa844d66a71f80c4212aadc089633cd92b11f74b0238...   \n",
       "22676  7f9a927b562c918668a4f0ee0e07d7bf80aa794afee674...   \n",
       "22677  18d85fa438e329e996f9f522a50ae1737655123bc5a833...   \n",
       "22678  5a7a365c1e92c9d7fd5592b904359142f062ed4ce64a75...   \n",
       "22679  c3cf46bf792ebbf5ee868cc80cae85c3ffa6baa8d8b800...   \n",
       "\n",
       "                                        PredictionString  \n",
       "0      2680.2830359778527 698.1969292852777 -18.04776...  \n",
       "1      1208.642684768659 1585.1812946970927 -23.56236...  \n",
       "2      848.9346793681768 2587.2870557176507 -20.15995...  \n",
       "3      1994.4320280494098 1128.30164336183 -18.054752...  \n",
       "4      1030.3877156973385 1667.13131694941 -23.764820...  \n",
       "...                                                  ...  \n",
       "22675  506.02429585132995 3074.465101403672 -2.893918...  \n",
       "22676  635.1858391616703 3514.376608433963 -5.1731285...  \n",
       "22677  580.4906223985986 3341.363054644562 -0.2571444...  \n",
       "22678  501.74488889345963 3082.923914062989 -2.333889...  \n",
       "22679  598.6232274979175 2638.649589163639 -19.824600...  \n",
       "\n",
       "[22680 rows x 2 columns]"
      ]
     },
     "execution_count": 4,
     "metadata": {},
     "output_type": "execute_result"
    }
   ],
   "source": [
    "train\n"
   ]
  },
  {
   "cell_type": "code",
   "execution_count": 5,
   "metadata": {},
   "outputs": [
    {
     "data": {
      "text/html": [
       "<div>\n",
       "<style scoped>\n",
       "    .dataframe tbody tr th:only-of-type {\n",
       "        vertical-align: middle;\n",
       "    }\n",
       "\n",
       "    .dataframe tbody tr th {\n",
       "        vertical-align: top;\n",
       "    }\n",
       "\n",
       "    .dataframe thead th {\n",
       "        text-align: right;\n",
       "    }\n",
       "</style>\n",
       "<table border=\"1\" class=\"dataframe\">\n",
       "  <thead>\n",
       "    <tr style=\"text-align: right;\">\n",
       "      <th></th>\n",
       "      <th>Id</th>\n",
       "      <th>PredictionString</th>\n",
       "    </tr>\n",
       "  </thead>\n",
       "  <tbody>\n",
       "    <tr>\n",
       "      <th>0</th>\n",
       "      <td>7eb3e546df5311b035f1d4b7e88351ffdd85f311ef1bdd...</td>\n",
       "      <td>NaN</td>\n",
       "    </tr>\n",
       "    <tr>\n",
       "      <th>1</th>\n",
       "      <td>a76d702996a086ecd4add92b6c533b76f0ab1dd35a4729...</td>\n",
       "      <td>NaN</td>\n",
       "    </tr>\n",
       "    <tr>\n",
       "      <th>2</th>\n",
       "      <td>a9919963e5cd83d12b60bb9c386869ecb4dffcf2e3c401...</td>\n",
       "      <td>NaN</td>\n",
       "    </tr>\n",
       "    <tr>\n",
       "      <th>3</th>\n",
       "      <td>e3f42dc16cb366723699a5e12098edb56907d676cb5720...</td>\n",
       "      <td>NaN</td>\n",
       "    </tr>\n",
       "    <tr>\n",
       "      <th>4</th>\n",
       "      <td>033edef20c7f951738c037c0275dc02279a15454fda3e6...</td>\n",
       "      <td>NaN</td>\n",
       "    </tr>\n",
       "    <tr>\n",
       "      <th>...</th>\n",
       "      <td>...</td>\n",
       "      <td>...</td>\n",
       "    </tr>\n",
       "    <tr>\n",
       "      <th>27463</th>\n",
       "      <td>53f4dfacb709a170445e4ad7b5a0688728c77ff3cd0fe5...</td>\n",
       "      <td>NaN</td>\n",
       "    </tr>\n",
       "    <tr>\n",
       "      <th>27464</th>\n",
       "      <td>854794e664c180c96527feba0fa8dab4ae491c5b784fc6...</td>\n",
       "      <td>NaN</td>\n",
       "    </tr>\n",
       "    <tr>\n",
       "      <th>27465</th>\n",
       "      <td>83ed8e28c6ababc1607e7c04262221e3fa9d41846185a3...</td>\n",
       "      <td>NaN</td>\n",
       "    </tr>\n",
       "    <tr>\n",
       "      <th>27466</th>\n",
       "      <td>f18acdfc03c6f092864487063b31c1914d631d992295ef...</td>\n",
       "      <td>NaN</td>\n",
       "    </tr>\n",
       "    <tr>\n",
       "      <th>27467</th>\n",
       "      <td>aab521819add7f1a683de63702a8891e6f9e9c35eec497...</td>\n",
       "      <td>NaN</td>\n",
       "    </tr>\n",
       "  </tbody>\n",
       "</table>\n",
       "<p>27468 rows × 2 columns</p>\n",
       "</div>"
      ],
      "text/plain": [
       "                                                      Id  PredictionString\n",
       "0      7eb3e546df5311b035f1d4b7e88351ffdd85f311ef1bdd...               NaN\n",
       "1      a76d702996a086ecd4add92b6c533b76f0ab1dd35a4729...               NaN\n",
       "2      a9919963e5cd83d12b60bb9c386869ecb4dffcf2e3c401...               NaN\n",
       "3      e3f42dc16cb366723699a5e12098edb56907d676cb5720...               NaN\n",
       "4      033edef20c7f951738c037c0275dc02279a15454fda3e6...               NaN\n",
       "...                                                  ...               ...\n",
       "27463  53f4dfacb709a170445e4ad7b5a0688728c77ff3cd0fe5...               NaN\n",
       "27464  854794e664c180c96527feba0fa8dab4ae491c5b784fc6...               NaN\n",
       "27465  83ed8e28c6ababc1607e7c04262221e3fa9d41846185a3...               NaN\n",
       "27466  f18acdfc03c6f092864487063b31c1914d631d992295ef...               NaN\n",
       "27467  aab521819add7f1a683de63702a8891e6f9e9c35eec497...               NaN\n",
       "\n",
       "[27468 rows x 2 columns]"
      ]
     },
     "execution_count": 5,
     "metadata": {},
     "output_type": "execute_result"
    }
   ],
   "source": [
    "sample_submission"
   ]
  },
  {
   "cell_type": "code",
   "execution_count": 6,
   "metadata": {},
   "outputs": [
    {
     "name": "stderr",
     "output_type": "stream",
     "text": [
      "100%|██████████| 22680/22680 [00:04<00:00, 5513.35it/s]\n"
     ]
    }
   ],
   "source": [
    "object_columns = ['sample_id', 'object_id', 'center_x', 'center_y', 'center_z',\n",
    "                  'width', 'length', 'height', 'yaw', 'class_name']\n",
    "objects = []\n",
    "for sample_id, ps in tqdm(train.values[:]):\n",
    "    object_params = ps.split()\n",
    "    n_objects = len(object_params)\n",
    "    for i in range(n_objects // 8):\n",
    "        x, y, z, w, l, h, yaw, c = tuple(object_params[i * 8: (i + 1) * 8])\n",
    "        objects.append([sample_id, i, x, y, z, w, l, h, yaw, c])\n",
    "train_objects = pd.DataFrame(\n",
    "    objects,\n",
    "    columns = object_columns\n",
    ")"
   ]
  },
  {
   "cell_type": "code",
   "execution_count": 10,
   "metadata": {},
   "outputs": [],
   "source": [
    "numerical_cols = ['object_id', 'center_x', 'center_y', 'center_z', 'width', 'length', 'height', 'yaw']\n",
    "train_objects[numerical_cols] = np.float32(train_objects[numerical_cols].values)"
   ]
  },
  {
   "cell_type": "code",
   "execution_count": 11,
   "metadata": {},
   "outputs": [
    {
     "data": {
      "text/html": [
       "<div>\n",
       "<style scoped>\n",
       "    .dataframe tbody tr th:only-of-type {\n",
       "        vertical-align: middle;\n",
       "    }\n",
       "\n",
       "    .dataframe tbody tr th {\n",
       "        vertical-align: top;\n",
       "    }\n",
       "\n",
       "    .dataframe thead th {\n",
       "        text-align: right;\n",
       "    }\n",
       "</style>\n",
       "<table border=\"1\" class=\"dataframe\">\n",
       "  <thead>\n",
       "    <tr style=\"text-align: right;\">\n",
       "      <th></th>\n",
       "      <th>sample_id</th>\n",
       "      <th>object_id</th>\n",
       "      <th>center_x</th>\n",
       "      <th>center_y</th>\n",
       "      <th>center_z</th>\n",
       "      <th>width</th>\n",
       "      <th>length</th>\n",
       "      <th>height</th>\n",
       "      <th>yaw</th>\n",
       "      <th>class_name</th>\n",
       "    </tr>\n",
       "  </thead>\n",
       "  <tbody>\n",
       "    <tr>\n",
       "      <th>0</th>\n",
       "      <td>db8b47bd4ebdf3b3fb21598bb41bd8853d12f8d2ef25ce...</td>\n",
       "      <td>0.0</td>\n",
       "      <td>2680.282959</td>\n",
       "      <td>698.196899</td>\n",
       "      <td>-18.047768</td>\n",
       "      <td>2.064</td>\n",
       "      <td>5.488</td>\n",
       "      <td>2.053</td>\n",
       "      <td>2.604164</td>\n",
       "      <td>car</td>\n",
       "    </tr>\n",
       "    <tr>\n",
       "      <th>1</th>\n",
       "      <td>db8b47bd4ebdf3b3fb21598bb41bd8853d12f8d2ef25ce...</td>\n",
       "      <td>1.0</td>\n",
       "      <td>2691.997559</td>\n",
       "      <td>660.801636</td>\n",
       "      <td>-18.674259</td>\n",
       "      <td>1.818</td>\n",
       "      <td>4.570</td>\n",
       "      <td>1.608</td>\n",
       "      <td>-0.335176</td>\n",
       "      <td>car</td>\n",
       "    </tr>\n",
       "    <tr>\n",
       "      <th>2</th>\n",
       "      <td>db8b47bd4ebdf3b3fb21598bb41bd8853d12f8d2ef25ce...</td>\n",
       "      <td>2.0</td>\n",
       "      <td>2713.607422</td>\n",
       "      <td>694.403503</td>\n",
       "      <td>-18.589972</td>\n",
       "      <td>1.779</td>\n",
       "      <td>4.992</td>\n",
       "      <td>1.620</td>\n",
       "      <td>2.579456</td>\n",
       "      <td>car</td>\n",
       "    </tr>\n",
       "    <tr>\n",
       "      <th>3</th>\n",
       "      <td>db8b47bd4ebdf3b3fb21598bb41bd8853d12f8d2ef25ce...</td>\n",
       "      <td>3.0</td>\n",
       "      <td>2679.986816</td>\n",
       "      <td>706.910156</td>\n",
       "      <td>-18.349594</td>\n",
       "      <td>1.798</td>\n",
       "      <td>3.903</td>\n",
       "      <td>1.722</td>\n",
       "      <td>2.586166</td>\n",
       "      <td>car</td>\n",
       "    </tr>\n",
       "    <tr>\n",
       "      <th>4</th>\n",
       "      <td>db8b47bd4ebdf3b3fb21598bb41bd8853d12f8d2ef25ce...</td>\n",
       "      <td>4.0</td>\n",
       "      <td>2659.352051</td>\n",
       "      <td>719.417480</td>\n",
       "      <td>-18.442999</td>\n",
       "      <td>1.936</td>\n",
       "      <td>4.427</td>\n",
       "      <td>1.921</td>\n",
       "      <td>2.601799</td>\n",
       "      <td>car</td>\n",
       "    </tr>\n",
       "  </tbody>\n",
       "</table>\n",
       "</div>"
      ],
      "text/plain": [
       "                                           sample_id  object_id     center_x  \\\n",
       "0  db8b47bd4ebdf3b3fb21598bb41bd8853d12f8d2ef25ce...        0.0  2680.282959   \n",
       "1  db8b47bd4ebdf3b3fb21598bb41bd8853d12f8d2ef25ce...        1.0  2691.997559   \n",
       "2  db8b47bd4ebdf3b3fb21598bb41bd8853d12f8d2ef25ce...        2.0  2713.607422   \n",
       "3  db8b47bd4ebdf3b3fb21598bb41bd8853d12f8d2ef25ce...        3.0  2679.986816   \n",
       "4  db8b47bd4ebdf3b3fb21598bb41bd8853d12f8d2ef25ce...        4.0  2659.352051   \n",
       "\n",
       "     center_y   center_z  width  length  height       yaw class_name  \n",
       "0  698.196899 -18.047768  2.064   5.488   2.053  2.604164        car  \n",
       "1  660.801636 -18.674259  1.818   4.570   1.608 -0.335176        car  \n",
       "2  694.403503 -18.589972  1.779   4.992   1.620  2.579456        car  \n",
       "3  706.910156 -18.349594  1.798   3.903   1.722  2.586166        car  \n",
       "4  719.417480 -18.442999  1.936   4.427   1.921  2.601799        car  "
      ]
     },
     "execution_count": 11,
     "metadata": {},
     "output_type": "execute_result"
    }
   ],
   "source": [
    "train_objects.head()"
   ]
  },
  {
   "cell_type": "code",
   "execution_count": 13,
   "metadata": {},
   "outputs": [
    {
     "name": "stdout",
     "output_type": "stream",
     "text": [
      "9 category,\n",
      "18 attribute,\n",
      "4 visibility,\n",
      "18421 instance,\n",
      "10 sensor,\n",
      "148 calibrated_sensor,\n",
      "177789 ego_pose,\n",
      "180 log,\n",
      "180 scene,\n",
      "22680 sample,\n",
      "189504 sample_data,\n",
      "638179 sample_annotation,\n",
      "1 map,\n",
      "Done loading in 37.3 seconds.\n",
      "======\n",
      "Reverse indexing ...\n",
      "Done reverse indexing in 10.6 seconds.\n",
      "======\n"
     ]
    }
   ],
   "source": [
    "lyft_dataset = LyftDataset(data_path=DATA_PATH, json_path=DATA_PATH+'train_data')"
   ]
  },
  {
   "cell_type": "code",
   "execution_count": 16,
   "metadata": {},
   "outputs": [
    {
     "data": {
      "text/plain": [
       "{'log_token': 'da4ed9e02f64c544f4f1f10c6738216dcb0e6b0d50952e158e5589854af9f100',\n",
       " 'first_sample_token': '24b0962e44420e6322de3f25d9e4e5cc3c7a348ec00bfa69db21517e4ca92cc8',\n",
       " 'name': 'host-a101-lidar0-1241893239199111666-1241893264098084346',\n",
       " 'description': '',\n",
       " 'last_sample_token': '2346756c83f6ae8c4d1adec62b4d0d31b62116d2e1819e96e9512667d15e7cec',\n",
       " 'nbr_samples': 126,\n",
       " 'token': 'da4ed9e02f64c544f4f1f10c6738216dcb0e6b0d50952e158e5589854af9f100'}"
      ]
     },
     "execution_count": 16,
     "metadata": {},
     "output_type": "execute_result"
    }
   ],
   "source": [
    "my_scene = lyft_dataset.scene[0]\n",
    "my_scene"
   ]
  },
  {
   "cell_type": "code",
   "execution_count": 17,
   "metadata": {},
   "outputs": [],
   "source": [
    "def render_scene(index):\n",
    "    my_scene = lyft_dataset.scene[index]\n",
    "    my_sample_token = my_scene[\"first_sample_token\"]\n",
    "    lyft_dataset.render_sample(my_sample_token)\n",
    "\n"
   ]
  },
  {
   "cell_type": "code",
   "execution_count": 18,
   "metadata": {
    "scrolled": false
   },
   "outputs": [
    {
     "ename": "FileNotFoundError",
     "evalue": "[Errno 2] No such file or directory: '/home/vignesh/workspace/lyft_3d/data/3d-object-detection-for-autonomous-vehicles/images/host-a101_cam3_1241893239200000006.jpeg'",
     "output_type": "error",
     "traceback": [
      "\u001b[0;31m---------------------------------------------------------------------------\u001b[0m",
      "\u001b[0;31mFileNotFoundError\u001b[0m                         Traceback (most recent call last)",
      "\u001b[0;32m<ipython-input-18-95a62f1319cb>\u001b[0m in \u001b[0;36m<module>\u001b[0;34m\u001b[0m\n\u001b[0;32m----> 1\u001b[0;31m \u001b[0mrender_scene\u001b[0m\u001b[0;34m(\u001b[0m\u001b[0;36m0\u001b[0m\u001b[0;34m)\u001b[0m\u001b[0;34m\u001b[0m\u001b[0;34m\u001b[0m\u001b[0m\n\u001b[0m",
      "\u001b[0;32m<ipython-input-17-27e4c4bc5dc0>\u001b[0m in \u001b[0;36mrender_scene\u001b[0;34m(index)\u001b[0m\n\u001b[1;32m      2\u001b[0m     \u001b[0mmy_scene\u001b[0m \u001b[0;34m=\u001b[0m \u001b[0mlyft_dataset\u001b[0m\u001b[0;34m.\u001b[0m\u001b[0mscene\u001b[0m\u001b[0;34m[\u001b[0m\u001b[0mindex\u001b[0m\u001b[0;34m]\u001b[0m\u001b[0;34m\u001b[0m\u001b[0;34m\u001b[0m\u001b[0m\n\u001b[1;32m      3\u001b[0m     \u001b[0mmy_sample_token\u001b[0m \u001b[0;34m=\u001b[0m \u001b[0mmy_scene\u001b[0m\u001b[0;34m[\u001b[0m\u001b[0;34m\"first_sample_token\"\u001b[0m\u001b[0;34m]\u001b[0m\u001b[0;34m\u001b[0m\u001b[0;34m\u001b[0m\u001b[0m\n\u001b[0;32m----> 4\u001b[0;31m     \u001b[0mlyft_dataset\u001b[0m\u001b[0;34m.\u001b[0m\u001b[0mrender_sample\u001b[0m\u001b[0;34m(\u001b[0m\u001b[0mmy_sample_token\u001b[0m\u001b[0;34m)\u001b[0m\u001b[0;34m\u001b[0m\u001b[0;34m\u001b[0m\u001b[0m\n\u001b[0m\u001b[1;32m      5\u001b[0m \u001b[0;34m\u001b[0m\u001b[0m\n",
      "\u001b[0;32m~/anaconda3/envs/deepnet/lib/python3.7/site-packages/lyft_dataset_sdk/lyftdataset.py\u001b[0m in \u001b[0;36mrender_sample\u001b[0;34m(self, sample_token, box_vis_level, nsweeps, out_path)\u001b[0m\n\u001b[1;32m    477\u001b[0m         \u001b[0mout_path\u001b[0m\u001b[0;34m:\u001b[0m \u001b[0mstr\u001b[0m \u001b[0;34m=\u001b[0m \u001b[0;32mNone\u001b[0m\u001b[0;34m,\u001b[0m\u001b[0;34m\u001b[0m\u001b[0;34m\u001b[0m\u001b[0m\n\u001b[1;32m    478\u001b[0m     ) -> None:\n\u001b[0;32m--> 479\u001b[0;31m         \u001b[0mself\u001b[0m\u001b[0;34m.\u001b[0m\u001b[0mexplorer\u001b[0m\u001b[0;34m.\u001b[0m\u001b[0mrender_sample\u001b[0m\u001b[0;34m(\u001b[0m\u001b[0msample_token\u001b[0m\u001b[0;34m,\u001b[0m \u001b[0mbox_vis_level\u001b[0m\u001b[0;34m,\u001b[0m \u001b[0mnsweeps\u001b[0m\u001b[0;34m=\u001b[0m\u001b[0mnsweeps\u001b[0m\u001b[0;34m,\u001b[0m \u001b[0mout_path\u001b[0m\u001b[0;34m=\u001b[0m\u001b[0mout_path\u001b[0m\u001b[0;34m)\u001b[0m\u001b[0;34m\u001b[0m\u001b[0;34m\u001b[0m\u001b[0m\n\u001b[0m\u001b[1;32m    480\u001b[0m \u001b[0;34m\u001b[0m\u001b[0m\n\u001b[1;32m    481\u001b[0m     def render_sample_data(\n",
      "\u001b[0;32m~/anaconda3/envs/deepnet/lib/python3.7/site-packages/lyft_dataset_sdk/lyftdataset.py\u001b[0m in \u001b[0;36mrender_sample\u001b[0;34m(self, token, box_vis_level, nsweeps, out_path)\u001b[0m\n\u001b[1;32m    897\u001b[0m         \u001b[0;31m# Plot camera and lidar in separate subplots.\u001b[0m\u001b[0;34m\u001b[0m\u001b[0;34m\u001b[0m\u001b[0;34m\u001b[0m\u001b[0m\n\u001b[1;32m    898\u001b[0m         \u001b[0;32mfor\u001b[0m \u001b[0;34m(\u001b[0m\u001b[0m_\u001b[0m\u001b[0;34m,\u001b[0m \u001b[0msd_token\u001b[0m\u001b[0;34m)\u001b[0m\u001b[0;34m,\u001b[0m \u001b[0max\u001b[0m \u001b[0;32min\u001b[0m \u001b[0mzip\u001b[0m\u001b[0;34m(\u001b[0m\u001b[0mnonradar_data\u001b[0m\u001b[0;34m.\u001b[0m\u001b[0mitems\u001b[0m\u001b[0;34m(\u001b[0m\u001b[0;34m)\u001b[0m\u001b[0;34m,\u001b[0m \u001b[0maxes\u001b[0m\u001b[0;34m.\u001b[0m\u001b[0mflatten\u001b[0m\u001b[0;34m(\u001b[0m\u001b[0;34m)\u001b[0m\u001b[0;34m[\u001b[0m\u001b[0mnum_radar_plots\u001b[0m\u001b[0;34m:\u001b[0m\u001b[0;34m]\u001b[0m\u001b[0;34m)\u001b[0m\u001b[0;34m:\u001b[0m\u001b[0;34m\u001b[0m\u001b[0;34m\u001b[0m\u001b[0m\n\u001b[0;32m--> 899\u001b[0;31m             \u001b[0mself\u001b[0m\u001b[0;34m.\u001b[0m\u001b[0mrender_sample_data\u001b[0m\u001b[0;34m(\u001b[0m\u001b[0msd_token\u001b[0m\u001b[0;34m,\u001b[0m \u001b[0mbox_vis_level\u001b[0m\u001b[0;34m=\u001b[0m\u001b[0mbox_vis_level\u001b[0m\u001b[0;34m,\u001b[0m \u001b[0max\u001b[0m\u001b[0;34m=\u001b[0m\u001b[0max\u001b[0m\u001b[0;34m,\u001b[0m \u001b[0mnum_sweeps\u001b[0m\u001b[0;34m=\u001b[0m\u001b[0mnsweeps\u001b[0m\u001b[0;34m)\u001b[0m\u001b[0;34m\u001b[0m\u001b[0;34m\u001b[0m\u001b[0m\n\u001b[0m\u001b[1;32m    900\u001b[0m \u001b[0;34m\u001b[0m\u001b[0m\n\u001b[1;32m    901\u001b[0m         \u001b[0maxes\u001b[0m\u001b[0;34m.\u001b[0m\u001b[0mflatten\u001b[0m\u001b[0;34m(\u001b[0m\u001b[0;34m)\u001b[0m\u001b[0;34m[\u001b[0m\u001b[0;34m-\u001b[0m\u001b[0;36m1\u001b[0m\u001b[0;34m]\u001b[0m\u001b[0;34m.\u001b[0m\u001b[0maxis\u001b[0m\u001b[0;34m(\u001b[0m\u001b[0;34m\"off\"\u001b[0m\u001b[0;34m)\u001b[0m\u001b[0;34m\u001b[0m\u001b[0;34m\u001b[0m\u001b[0m\n",
      "\u001b[0;32m~/anaconda3/envs/deepnet/lib/python3.7/site-packages/lyft_dataset_sdk/lyftdataset.py\u001b[0m in \u001b[0;36mrender_sample_data\u001b[0;34m(self, sample_data_token, with_anns, box_vis_level, axes_limit, ax, num_sweeps, out_path, underlay_map)\u001b[0m\n\u001b[1;32m   1107\u001b[0m                 \u001b[0msample_data_token\u001b[0m\u001b[0;34m,\u001b[0m \u001b[0mbox_vis_level\u001b[0m\u001b[0;34m=\u001b[0m\u001b[0mbox_vis_level\u001b[0m\u001b[0;34m\u001b[0m\u001b[0;34m\u001b[0m\u001b[0m\n\u001b[1;32m   1108\u001b[0m             )\n\u001b[0;32m-> 1109\u001b[0;31m             \u001b[0mdata\u001b[0m \u001b[0;34m=\u001b[0m \u001b[0mImage\u001b[0m\u001b[0;34m.\u001b[0m\u001b[0mopen\u001b[0m\u001b[0;34m(\u001b[0m\u001b[0mdata_path\u001b[0m\u001b[0;34m)\u001b[0m\u001b[0;34m\u001b[0m\u001b[0;34m\u001b[0m\u001b[0m\n\u001b[0m\u001b[1;32m   1110\u001b[0m \u001b[0;34m\u001b[0m\u001b[0m\n\u001b[1;32m   1111\u001b[0m             \u001b[0;31m# Init axes.\u001b[0m\u001b[0;34m\u001b[0m\u001b[0;34m\u001b[0m\u001b[0;34m\u001b[0m\u001b[0m\n",
      "\u001b[0;32m~/anaconda3/envs/deepnet/lib/python3.7/site-packages/PIL/Image.py\u001b[0m in \u001b[0;36mopen\u001b[0;34m(fp, mode)\u001b[0m\n\u001b[1;32m   2764\u001b[0m \u001b[0;34m\u001b[0m\u001b[0m\n\u001b[1;32m   2765\u001b[0m     \u001b[0;32mif\u001b[0m \u001b[0mfilename\u001b[0m\u001b[0;34m:\u001b[0m\u001b[0;34m\u001b[0m\u001b[0;34m\u001b[0m\u001b[0m\n\u001b[0;32m-> 2766\u001b[0;31m         \u001b[0mfp\u001b[0m \u001b[0;34m=\u001b[0m \u001b[0mbuiltins\u001b[0m\u001b[0;34m.\u001b[0m\u001b[0mopen\u001b[0m\u001b[0;34m(\u001b[0m\u001b[0mfilename\u001b[0m\u001b[0;34m,\u001b[0m \u001b[0;34m\"rb\"\u001b[0m\u001b[0;34m)\u001b[0m\u001b[0;34m\u001b[0m\u001b[0;34m\u001b[0m\u001b[0m\n\u001b[0m\u001b[1;32m   2767\u001b[0m         \u001b[0mexclusive_fp\u001b[0m \u001b[0;34m=\u001b[0m \u001b[0;32mTrue\u001b[0m\u001b[0;34m\u001b[0m\u001b[0;34m\u001b[0m\u001b[0m\n\u001b[1;32m   2768\u001b[0m \u001b[0;34m\u001b[0m\u001b[0m\n",
      "\u001b[0;31mFileNotFoundError\u001b[0m: [Errno 2] No such file or directory: '/home/vignesh/workspace/lyft_3d/data/3d-object-detection-for-autonomous-vehicles/images/host-a101_cam3_1241893239200000006.jpeg'"
     ]
    },
    {
     "data": {
      "image/png": "[encoded data removed]",
      "text/plain": [
       "<Figure size 1152x1728 with 10 Axes>"
      ]
     },
     "metadata": {
      "needs_background": "light"
     },
     "output_type": "display_data"
    }
   ],
   "source": [
    "render_scene(0)"
   ]
  },
  {
   "cell_type": "code",
   "execution_count": null,
   "metadata": {},
   "outputs": [],
   "source": []
  }
 ],
 "metadata": {
  "kernelspec": {
   "display_name": "Python (deepnet)",
   "language": "python",
   "name": "deepnet"
  },
  "language_info": {
   "codemirror_mode": {
    "name": "ipython",
    "version": 3
   },
   "file_extension": ".py",
   "mimetype": "text/x-python",
   "name": "python",
   "nbconvert_exporter": "python",
   "pygments_lexer": "ipython3",
   "version": "3.7.4"
  }
 },
 "nbformat": 4,
 "nbformat_minor": 2
}
