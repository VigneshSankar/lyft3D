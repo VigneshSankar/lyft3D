{
 "cells": [
  {
   "cell_type": "code",
   "execution_count": null,
   "metadata": {
    "pycharm": {
     "is_executing": false
    }
   },
   "outputs": [],
   "source": [
    "from pathlib import Path\n",
    "from PIL import Image\n"
   ]
  },
  {
   "cell_type": "code",
   "execution_count": null,
   "metadata": {
    "pycharm": {
     "is_executing": false,
     "name": "#%%\n"
    }
   },
   "outputs": [],
   "source": [
    "# dir with all input data from Kaggle\n",
    "INP_DIR = Path('/home/vignesh/workspace/lyft_3d/data/proper/3d-object-detection-for-autonomous-vehicles/')"
   ]
  },
  {
   "cell_type": "code",
   "execution_count": null,
   "metadata": {
    "pycharm": {
     "is_executing": false,
     "name": "#%%\n"
    }
   },
   "outputs": [],
   "source": [
    "# dir with index json tables (scenes, categories, logs, etc...)\n",
    "TABLES_DIR = INP_DIR.joinpath('train_data')"
   ]
  },
  {
   "cell_type": "code",
   "execution_count": null,
   "metadata": {
    "pycharm": {
     "is_executing": false,
     "name": "#%%\n"
    }
   },
   "outputs": [],
   "source": [
    "# Adjust the dataroot parameter below to point to your local dataset path.\n",
    "# The correct dataset path contains at least the following four folders (or similar): images, lidar, maps\n",
    "!ln -s {INP_DIR}/train_images {INP_DIR}/images\n",
    "!ln -s {INP_DIR}/train_maps {INP_DIR}/maps\n",
    "!ln -s {INP_DIR}/train_lidar {INP_DIR}/lidar"
   ]
  },
  {
   "cell_type": "code",
   "execution_count": null,
   "metadata": {
    "pycharm": {
     "is_executing": false,
     "name": "#%%\n"
    }
   },
   "outputs": [],
   "source": [
    "DATA_DIR = Path('/home/vignesh/workspace/lyft_3d/data/proper/3d-object-detection-for-autonomous-vehicles').absolute() \n",
    "# Empty init equals '.'.\n",
    "# We use this because we link train dirs to current dir (cell above)\n"
   ]
  },
  {
   "cell_type": "code",
   "execution_count": null,
   "metadata": {
    "pycharm": {
     "is_executing": false,
     "name": "#%%\n"
    }
   },
   "outputs": [],
   "source": [
    "# dir to write KITTY-style dataset\n",
    "count = 150000\n",
    "STORE_DIR = Path(f'/home/vignesh/workspace/lyft_3d/data/proper/kitti_format_{count}').absolute() "
   ]
  },
  {
   "cell_type": "code",
   "execution_count": null,
   "metadata": {
    "pycharm": {
     "is_executing": false,
     "name": "#%%\n"
    }
   },
   "outputs": [],
   "source": [
    "!python -m lyft_dataset_sdk.utils.export_kitti nuscenes_gt_to_kitti -h"
   ]
  },
  {
   "cell_type": "code",
   "execution_count": null,
   "metadata": {
    "pycharm": {
     "is_executing": false,
     "name": "#%%\n"
    }
   },
   "outputs": [],
   "source": [
    "!python -m lyft_dataset_sdk.utils.export_kitti nuscenes_gt_to_kitti \\\n",
    "        --lyft_dataroot {DATA_DIR} \\\n",
    "        --table_folder {TABLES_DIR} \\\n",
    "        --samples_count 150000 \\\n",
    "        --parallel_n_jobs 2 \\\n",
    "        --get_all_detections True \\\n",
    "        --store_dir {STORE_DIR}"
   ]
  },
  {
   "cell_type": "code",
   "execution_count": null,
   "metadata": {
    "pycharm": {
     "is_executing": false,
     "name": "#%%\n"
    }
   },
   "outputs": [],
   "source": [
    "# check created (converted) files. velodyne = LiDAR poinclouds data (in binary)\n",
    "!ls {STORE_DIR}/velodyne | head -2"
   ]
  },
  {
   "cell_type": "code",
   "execution_count": null,
   "metadata": {
    "pycharm": {
     "is_executing": false,
     "name": "#%%\n"
    }
   },
   "outputs": [],
   "source": [
    "# render converted data for check. Currently don't support multithreading :(\n",
    "!python -m lyft_dataset_sdk.utils.export_kitti render_kitti \\\n",
    "        --store_dir {STORE_DIR}"
   ]
  },
  {
   "cell_type": "code",
   "execution_count": null,
   "metadata": {
    "pycharm": {
     "is_executing": false,
     "name": "#%%\n"
    }
   },
   "outputs": [],
   "source": [
    "# Script above write images to 'render' folder\n",
    "# in store_dir (where we have converted dataset)\n",
    "RENDER_DIR = STORE_DIR.joinpath('render')"
   ]
  },
  {
   "cell_type": "code",
   "execution_count": null,
   "metadata": {
    "pycharm": {
     "is_executing": false,
     "name": "#%%\n"
    }
   },
   "outputs": [],
   "source": [
    "# get all rendered files\n",
    "all_renders = list(RENDER_DIR.glob('*'))\n",
    "all_renders.sort()"
   ]
  },
  {
   "cell_type": "code",
   "execution_count": null,
   "metadata": {
    "pycharm": {
     "is_executing": false,
     "name": "#%%\n"
    }
   },
   "outputs": [],
   "source": [
    "Image.open(all_renders[0])"
   ]
  },
  {
   "cell_type": "code",
   "execution_count": null,
   "metadata": {
    "pycharm": {
     "is_executing": false,
     "name": "#%%\n"
    }
   },
   "outputs": [],
   "source": [
    "Image.open(all_renders[1])"
   ]
  },
  {
   "cell_type": "code",
   "execution_count": null,
   "metadata": {
    "pycharm": {
     "is_executing": false,
     "name": "#%%\n"
    }
   },
   "outputs": [],
   "source": [
    "\n"
   ]
  }
 ],
 "metadata": {
  "kernelspec": {
   "display_name": "Python (deepnet)",
   "language": "python",
   "name": "deepnet"
  },
  "language_info": {
   "codemirror_mode": {
    "name": "ipython",
    "version": 3
   },
   "file_extension": ".py",
   "mimetype": "text/x-python",
   "name": "python",
   "nbconvert_exporter": "python",
   "pygments_lexer": "ipython3",
   "version": "3.7.4"
  },
  "pycharm": {
   "stem_cell": {
    "cell_type": "raw",
    "metadata": {
     "collapsed": false
    },
    "source": []
   }
  }
 },
 "nbformat": 4,
 "nbformat_minor": 1
}
